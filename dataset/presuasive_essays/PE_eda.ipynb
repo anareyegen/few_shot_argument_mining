{
 "cells": [
  {
   "cell_type": "code",
   "execution_count": 5,
   "id": "899cf96c",
   "metadata": {},
   "outputs": [
    {
     "name": "stdout",
     "output_type": "stream",
     "text": [
      "Number of lines in train:  1873\n"
     ]
    }
   ],
   "source": [
    "data = open('train_PE.en.txt')\n",
    "count = 0\n",
    "\n",
    "for l in data:\n",
    "\n",
    "    if l == '\\n':\n",
    "        count += 1 \n",
    "print('Number of lines in train: ', count)"
   ]
  },
  {
   "cell_type": "code",
   "execution_count": 19,
   "id": "accc8deb",
   "metadata": {},
   "outputs": [
    {
     "name": "stdout",
     "output_type": "stream",
     "text": [
      "Average length:  56\n",
      "Max and min lengths:  189 0\n",
      "96\n",
      "It is always said that competition can effectively promote the development of economy . In order to survive in the competition , companies continue to improve their products and service , and as a result , the whole society prospers . However , when we discuss the issue of competition or cooperation , what we are concerned about is not the whole society , but the development of an individual ' s whole life . From this point of view , I firmly believe that we should attach more importance to cooperation during primary education .\n"
     ]
    }
   ],
   "source": [
    "data = open('train_PE.en.txt')\n",
    "lines = []\n",
    "tokens = []\n",
    "\n",
    "for line in data:\n",
    "    if line != '\\n':\n",
    "        l, _ = line.split('\\t')\n",
    "        tokens.append(l)\n",
    "    else:\n",
    "        lines.append(tokens)\n",
    "        tokens = []\n",
    "        \n",
    "sentences = [' '.join(line) for line in lines]\n",
    "lens = [len(line) for line in lines]\n",
    "\n",
    "print('Average length: ', sum(lens) // len(lens))\n",
    "print('Max and min lengths: ', max(lens), min(lens))\n",
    "print(len(sentences[1].split(' ')))\n",
    "print(sentences[1])"
   ]
  },
  {
   "cell_type": "code",
   "execution_count": null,
   "id": "fe84f5bf",
   "metadata": {},
   "outputs": [],
   "source": [
    "lines[]"
   ]
  },
  {
   "cell_type": "code",
   "execution_count": 26,
   "id": "c0a30af8",
   "metadata": {},
   "outputs": [],
   "source": [
    "import nltk\n",
    "\n",
    "a = []\n",
    "# tokenizer = nltk.tokenize.sent_tokenize(text, language='english')\n",
    "for line in sentences:\n",
    "#     line\n",
    "#     break\n",
    "    a += nltk.tokenize.sent_tokenize(line, language='english')\n",
    "    "
   ]
  },
  {
   "cell_type": "code",
   "execution_count": 28,
   "id": "5504dc15",
   "metadata": {},
   "outputs": [
    {
     "data": {
      "text/plain": [
       "5096"
      ]
     },
     "execution_count": 28,
     "metadata": {},
     "output_type": "execute_result"
    }
   ],
   "source": [
    "len(a)"
   ]
  },
  {
   "cell_type": "code",
   "execution_count": 30,
   "id": "a4889a6d",
   "metadata": {},
   "outputs": [
    {
     "data": {
      "text/plain": [
       "['Should governments spend more money on improving roads and highways',\n",
       " 'Nowadays transportation has attracted much social concern .',\n",
       " 'Whether governments should invest more money in traffic infrastructure or focus more on developing public transportation has erupted endless controversy .',\n",
       " 'It does not seem unreasonable to suggest that governments spend more money on buses , trains , and subways investment .',\n",
       " 'Such public vehicles are used to serve a large number of people in society therefore they help alleviate traffic congestion and decrease the amount of carbon released into the air .',\n",
       " 'Both these two things are important .',\n",
       " 'First and foremost , carbon emission cut is significantly essential for protecting the atmosphere .',\n",
       " 'The fact is that the more cars and motorbikes are on roads , the more seriously the ozone layer is damaged .',\n",
       " 'If governments use more money to improve roads , there is a strong likelihood that more people drive their private cars work .',\n",
       " 'This is sure to lead to more carbon emitted into the atmosphere , which can cause skin cancer and destroy the natural environment .',\n",
       " 'Whereas , if there are more good buses , trains , or subways , people are inclined to use less private vehicles , which decreases the amount of carbon released .']"
      ]
     },
     "execution_count": 30,
     "metadata": {},
     "output_type": "execute_result"
    }
   ],
   "source": [
    "a[100:111]"
   ]
  },
  {
   "cell_type": "code",
   "execution_count": null,
   "id": "df252b20",
   "metadata": {},
   "outputs": [],
   "source": []
  }
 ],
 "metadata": {
  "kernelspec": {
   "display_name": "Python 3.8.12 64-bit ('work_tf': conda)",
   "language": "python",
   "name": "python3812jvsc74a57bd07c5b889f928aa8c15fbd51e982534b73e2eac319f41be6f496cd8544f230e076"
  },
  "language_info": {
   "codemirror_mode": {
    "name": "ipython",
    "version": 3
   },
   "file_extension": ".py",
   "mimetype": "text/x-python",
   "name": "python",
   "nbconvert_exporter": "python",
   "pygments_lexer": "ipython3",
   "version": "3.8.12"
  },
  "toc": {
   "base_numbering": 1,
   "nav_menu": {},
   "number_sections": true,
   "sideBar": true,
   "skip_h1_title": false,
   "title_cell": "Table of Contents",
   "title_sidebar": "Contents",
   "toc_cell": false,
   "toc_position": {},
   "toc_section_display": true,
   "toc_window_display": false
  }
 },
 "nbformat": 4,
 "nbformat_minor": 5
}
